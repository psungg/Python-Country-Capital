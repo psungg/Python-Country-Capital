{
 "cells": [
  {
   "cell_type": "markdown",
   "id": "e3f46b5f",
   "metadata": {},
   "source": [
    "# Ask Country/Capital"
   ]
  },
  {
   "cell_type": "code",
   "execution_count": 5,
   "id": "6ef15205",
   "metadata": {},
   "outputs": [
    {
     "ename": "NameError",
     "evalue": "name 'query_capital' is not defined",
     "output_type": "error",
     "traceback": [
      "\u001b[1;31m---------------------------------------------------------------------------\u001b[0m",
      "\u001b[1;31mNameError\u001b[0m                                 Traceback (most recent call last)",
      "Cell \u001b[1;32mIn[5], line 35\u001b[0m\n\u001b[0;32m     33\u001b[0m     messagebox\u001b[38;5;241m.\u001b[39mshowinfo(\u001b[38;5;124m'\u001b[39m\u001b[38;5;124mThanks\u001b[39m\u001b[38;5;124m'\u001b[39m, \u001b[38;5;124m'\u001b[39m\u001b[38;5;124mThank you for teaching me. I will definitely know it next time!\u001b[39m\u001b[38;5;124m'\u001b[39m)\n\u001b[0;32m     34\u001b[0m     new_capital \u001b[38;5;241m=\u001b[39m new_capital\u001b[38;5;241m.\u001b[39mcapitalize()\n\u001b[1;32m---> 35\u001b[0m     write_to_file(query_country, query_capital)\n\u001b[0;32m     36\u001b[0m answer \u001b[38;5;241m=\u001b[39m simpledialog\u001b[38;5;241m.\u001b[39maskstring(\u001b[38;5;124m'\u001b[39m\u001b[38;5;124mContinue\u001b[39m\u001b[38;5;124m'\u001b[39m, \u001b[38;5;124m'\u001b[39m\u001b[38;5;124mDo you want to try again? y/n\u001b[39m\u001b[38;5;124m'\u001b[39m)\n\u001b[0;32m     37\u001b[0m \u001b[38;5;28;01mif\u001b[39;00m answer \u001b[38;5;241m==\u001b[39m \u001b[38;5;124m'\u001b[39m\u001b[38;5;124mn\u001b[39m\u001b[38;5;124m'\u001b[39m:\n",
      "\u001b[1;31mNameError\u001b[0m: name 'query_capital' is not defined"
     ]
    }
   ],
   "source": [
    "import sys\n",
    "from tkinter import Tk, simpledialog, messagebox\n",
    "\n",
    "def read_from_file():\n",
    "    with open('worldCapital.txt', 'r') as file:\n",
    "        for line in file:\n",
    "            line = line.rstrip('\\n')\n",
    "            country, capital = line.split('/')\n",
    "            country = country.capitalize()\n",
    "            capital = capital.capitalize()\n",
    "            world_capital[country] = capital\n",
    "            \n",
    "def write_to_file(country_name, capital_name):\n",
    "    with open('worldCapital.txt', 'a') as file:\n",
    "        file.write('\\n')\n",
    "        file.write(country_name + '/' + capital_name)\n",
    "        file.close()\n",
    "        \n",
    "root = Tk()\n",
    "root.withdraw()\n",
    "world_capital = {}\n",
    "while True:\n",
    "    read_from_file()\n",
    "    simpledialog.askstring\n",
    "    query_country = ''\n",
    "    query_country = simpledialog.askstring('Country', 'Type the name of a country: ')\n",
    "    query_country = query_country.capitalize()\n",
    "    if query_country in world_capital:\n",
    "        result = world_capital[query_country]\n",
    "        messagebox.showinfo('Answer','The capital city of ' + query_country + ' is ' + result + '!')\n",
    "    else:\n",
    "        new_capital = simpledialog.askstring('Teach me', 'I don\\' know the answer. Please teach me. What is the capital city of '+ query_country + '?:')\n",
    "        messagebox.showinfo('Thanks', 'Thank you for teaching me. I will definitely know it next time!')\n",
    "        new_capital = new_capital.capitalize()\n",
    "        write_to_file(query_country, query_capital)\n",
    "    answer = simpledialog.askstring('Continue', 'Do you want to try again? y/n')\n",
    "    if answer == 'n':\n",
    "        messagebox.showinfo('Thanks', 'Thank you for playing!')\n",
    "        root.destroy()\n",
    "        sys.exit()"
   ]
  },
  {
   "cell_type": "markdown",
   "id": "f63d1a23",
   "metadata": {},
   "source": [
    "# Ask Area of Rectangle"
   ]
  },
  {
   "cell_type": "code",
   "execution_count": null,
   "id": "71a600f6",
   "metadata": {},
   "outputs": [],
   "source": [
    "import sys\n",
    "from tkinter import Tk, simpledialog, messagebox\n",
    "\n",
    "def recArea(width, height):\n",
    "    area = width * height\n",
    "    return area\n",
    "\n",
    "root = Tk()\n",
    "root.withdraw()\n",
    "\n",
    "query_width = simpledialog.askfloat('Area Calculator', 'Enter width: ')\n",
    "query_height = simpledialog.askfloat('Area Calculator', 'Enter height')\n",
    "\n",
    "result = recArea(query_width, query_height)\n",
    "messagebox.showinfo('Area Calculator', 'Area of Rectangle is: ' + str(result))\n",
    "\n",
    "root.destroy()\n",
    "sys.exit()\n",
    "\n",
    "\n"
   ]
  },
  {
   "cell_type": "code",
   "execution_count": null,
   "id": "b3797a9a",
   "metadata": {},
   "outputs": [],
   "source": []
  }
 ],
 "metadata": {
  "kernelspec": {
   "display_name": "Python 3 (ipykernel)",
   "language": "python",
   "name": "python3"
  },
  "language_info": {
   "codemirror_mode": {
    "name": "ipython",
    "version": 3
   },
   "file_extension": ".py",
   "mimetype": "text/x-python",
   "name": "python",
   "nbconvert_exporter": "python",
   "pygments_lexer": "ipython3",
   "version": "3.11.3"
  }
 },
 "nbformat": 4,
 "nbformat_minor": 5
}
